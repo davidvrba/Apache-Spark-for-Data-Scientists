{
 "cells": [
  {
   "cell_type": "markdown",
   "id": "9ec3f5c9",
   "metadata": {},
   "source": [
    "# Task\n",
    "\n",
    "From the answers dataset, find the user that has maximum entropy in the `comments` column. Implement the solution as Pandas UDF that can be called as an aggregation function. In other words, we want to compute a single number for each user."
   ]
  },
  {
   "cell_type": "code",
   "execution_count": null,
   "id": "88594894",
   "metadata": {},
   "outputs": [],
   "source": [
    "from pyspark.sql import SparkSession\n",
    "from pyspark.sql.functions import (\n",
    "    col, udf, lit, count, year, pandas_udf, avg, collect_list, size, array_distinct, desc, asc_nulls_last)\n",
    "\n",
    "import os\n",
    "import re\n",
    "\n",
    "import pandas as pd\n",
    "from scipy.stats import entropy"
   ]
  },
  {
   "cell_type": "code",
   "execution_count": null,
   "id": "95e90f5d",
   "metadata": {},
   "outputs": [],
   "source": [
    "spark = (\n",
    "    SparkSession\n",
    "    .builder\n",
    "    .appName('UDFs II')\n",
    "    .getOrCreate()\n",
    ")"
   ]
  },
  {
   "cell_type": "code",
   "execution_count": null,
   "id": "5a8bbf4c",
   "metadata": {},
   "outputs": [],
   "source": [
    "base_path = os.getcwd()\n",
    "\n",
    "project_path = ('/').join(base_path.split('/')[0:-3]) \n",
    "\n",
    "answers_input_path = os.path.join(project_path, 'data/answers')"
   ]
  },
  {
   "cell_type": "code",
   "execution_count": null,
   "id": "44f415e8",
   "metadata": {},
   "outputs": [],
   "source": [
    "# we will work with answers dataset:\n",
    "\n",
    "answersDF = (\n",
    "    spark\n",
    "    .read\n",
    "    .option('path', answers_input_path)\n",
    "    .load()\n",
    ")"
   ]
  },
  {
   "cell_type": "markdown",
   "id": "f00e807a",
   "metadata": {},
   "source": [
    "## Hint\n",
    "\n",
    "* define a function that will take on the input a pandas series and will return float\n",
    " * this function should compute the entropy of the input pandas series\n",
    " * see [docs](http://scipy.github.io/devdocs/reference/generated/scipy.stats.entropy.html#scipy.stats.entropy) for entropy"
   ]
  },
  {
   "cell_type": "code",
   "execution_count": null,
   "id": "3f46fac5",
   "metadata": {},
   "outputs": [],
   "source": [
    "# your code here\n"
   ]
  },
  {
   "cell_type": "markdown",
   "id": "8a564796",
   "metadata": {},
   "source": [
    "### Now test the function if it works as expected\n",
    "\n",
    "* take the input dataframe and convert it to pandas dataframe\n",
    "* pass the pandas series to the function\n",
    " * to create a pandas series from a pandas dataframe, just select the column `pdf['comments']`"
   ]
  },
  {
   "cell_type": "code",
   "execution_count": null,
   "id": "a3c2bafb",
   "metadata": {},
   "outputs": [],
   "source": [
    "# your code here\n"
   ]
  },
  {
   "cell_type": "markdown",
   "id": "f40961c9",
   "metadata": {},
   "source": [
    "## Hint\n",
    "\n",
    "* if the function works just add the annotation to it and create the pandas udf from it"
   ]
  },
  {
   "cell_type": "code",
   "execution_count": null,
   "id": "55f930c0",
   "metadata": {},
   "outputs": [],
   "source": [
    "# your code here\n"
   ]
  },
  {
   "cell_type": "markdown",
   "id": "73ebadd4",
   "metadata": {},
   "source": [
    "* Finally call your UDF as an aggregation function in the DataFrame transformations\n",
    "* group by `user_id` and call the UDF inside `.agg`\n",
    "* sort by the result in desc order"
   ]
  },
  {
   "cell_type": "code",
   "execution_count": null,
   "id": "3bdbabaf",
   "metadata": {},
   "outputs": [],
   "source": [
    "# your code here\n"
   ]
  }
 ],
 "metadata": {
  "kernelspec": {
   "display_name": "data_science",
   "language": "python",
   "name": "data_science"
  },
  "language_info": {
   "codemirror_mode": {
    "name": "ipython",
    "version": 3
   },
   "file_extension": ".py",
   "mimetype": "text/x-python",
   "name": "python",
   "nbconvert_exporter": "python",
   "pygments_lexer": "ipython3",
   "version": "3.7.3"
  }
 },
 "nbformat": 4,
 "nbformat_minor": 5
}
